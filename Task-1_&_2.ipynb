{
 "cells": [
  {
   "cell_type": "markdown",
   "metadata": {},
   "source": [
    "# Task-1"
   ]
  },
  {
   "cell_type": "markdown",
   "metadata": {},
   "source": [
    "# Answer:- 1"
   ]
  },
  {
   "cell_type": "code",
   "execution_count": 2,
   "metadata": {},
   "outputs": [
    {
     "name": "stdout",
     "output_type": "stream",
     "text": [
      "<class 'int'>\n",
      "<class 'float'>\n",
      "<class 'str'>\n"
     ]
    }
   ],
   "source": [
    "a = 1\n",
    "b = 23.66\n",
    "c = \"Jaimin\"\n",
    "print(type(a))\n",
    "print(type(b))\n",
    "print(type(c))"
   ]
  },
  {
   "cell_type": "markdown",
   "metadata": {},
   "source": [
    "# Answer:- 2"
   ]
  },
  {
   "cell_type": "code",
   "execution_count": 3,
   "metadata": {},
   "outputs": [
    {
     "name": "stdout",
     "output_type": "stream",
     "text": [
      "Before Swapping x:-  <class 'complex'>\n",
      "Before Swapping y:-  <class 'int'>\n",
      "\n",
      "\n",
      "After Swapping x:- 56\n",
      "<class 'int'>\n",
      "After Swapping y:- (18+10j)\n",
      "<class 'complex'>\n"
     ]
    }
   ],
   "source": [
    "x = 10j + 18\n",
    "print(\"Before Swapping x:- \",type(x))\n",
    "\n",
    "y = 56\n",
    "print(\"Before Swapping y:- \",type(y))\n",
    "\n",
    "print('\\n')\n",
    "temp = x\n",
    "x = y\n",
    "y = temp\n",
    "\n",
    "print(\"After Swapping x:-\", x)\n",
    "print(type(x))\n",
    "print(\"After Swapping y:-\", y)\n",
    "print(type(y))\n",
    "\n"
   ]
  },
  {
   "cell_type": "markdown",
   "metadata": {},
   "source": [
    "# Answer:- 3"
   ]
  },
  {
   "cell_type": "code",
   "execution_count": 9,
   "metadata": {},
   "outputs": [
    {
     "name": "stdout",
     "output_type": "stream",
     "text": [
      "Befor Swaping a =  megha\n",
      "Befor Swaping b =  Jaimin\n",
      "\n",
      "\n",
      "After Swapping a =  Jaimin\n",
      "After Swapping b =  megha\n",
      "\n",
      "\n",
      "Without using third variable\n",
      "Befor Swaping a =  123\n",
      "Befor Swaping b =  456\n",
      "\n",
      "\n",
      "After Swapping a =  456\n",
      "After Swapping b =  123\n"
     ]
    }
   ],
   "source": [
    "# Swaping two variable with using third variable\n",
    "a = \"megha\"\n",
    "b = \"Jaimin\"\n",
    "print(\"Befor Swaping a = \", a)\n",
    "print(\"Befor Swaping b = \", b)\n",
    "print('\\n')\n",
    "\n",
    "temp = a\n",
    "a = b\n",
    "b = temp\n",
    "\n",
    "print(\"After Swapping a = \", a)\n",
    "print(\"After Swapping b = \", b)\n",
    "\n",
    "print(\"\\n\")\n",
    "print(\"Without using third variable\")\n",
    "# Swaping two variable without using third variable\n",
    "a = 123\n",
    "b = 456\n",
    "print(\"Befor Swaping a = \", a)\n",
    "print(\"Befor Swaping b = \", b)\n",
    "\n",
    "print('\\n')\n",
    "a = a + b\n",
    "b = a - b\n",
    "a = a - b\n",
    "\n",
    "print(\"After Swapping a = \", a)\n",
    "print(\"After Swapping b = \", b)"
   ]
  },
  {
   "cell_type": "markdown",
   "metadata": {},
   "source": [
    "# Answer:- 4"
   ]
  },
  {
   "cell_type": "code",
   "execution_count": 10,
   "metadata": {},
   "outputs": [
    {
     "ename": "SyntaxError",
     "evalue": "Missing parentheses in call to 'print'. Did you mean print(number  # This is not supporting in python 3)? (74879554.py, line 2)",
     "output_type": "error",
     "traceback": [
      "\u001b[0;36m  Input \u001b[0;32mIn [10]\u001b[0;36m\u001b[0m\n\u001b[0;31m    print number  # This is not supporting in python 3\u001b[0m\n\u001b[0m          ^\u001b[0m\n\u001b[0;31mSyntaxError\u001b[0m\u001b[0;31m:\u001b[0m Missing parentheses in call to 'print'. Did you mean print(number  # This is not supporting in python 3)?\n"
     ]
    }
   ],
   "source": [
    "number = input(\"Enter number:- \" )\n",
    "print number  # This is not supporting in python 3 \n",
    "print(\"Print input number\", number) # This print method support both 2.x and 3.x "
   ]
  },
  {
   "cell_type": "markdown",
   "metadata": {},
   "source": [
    "# Answer:- 5"
   ]
  },
  {
   "cell_type": "code",
   "execution_count": null,
   "metadata": {},
   "outputs": [
    {
     "name": "stdout",
     "output_type": "stream",
     "text": [
      "Num1:-  7\n",
      "Num2:-  5\n",
      "Z :-  12.0\n",
      "Final Result:-  42.0\n"
     ]
    }
   ],
   "source": [
    "num1 = input(\"Enter num1 between 1 to 10 :- \" )\n",
    "num2 = input(\"Enter num2 between 1 to 10 :- \" )\n",
    "\n",
    "z = float(num1) + float(num2)\n",
    "\n",
    "print(\"Num1:- \", num1)\n",
    "print(\"Num2:- \", num2)\n",
    "print(\"Z :- \", z)\n",
    "\n",
    "result = z + 30\n",
    "print(\"Final Result:- \", result)"
   ]
  },
  {
   "cell_type": "markdown",
   "metadata": {},
   "source": [
    "# Answer:- 6"
   ]
  },
  {
   "cell_type": "code",
   "execution_count": 4,
   "metadata": {},
   "outputs": [
    {
     "name": "stdout",
     "output_type": "stream",
     "text": [
      "jaimin\n",
      "User input is string\n",
      "2.56\n",
      "User input is string\n"
     ]
    }
   ],
   "source": [
    "def check_is_digit(input_str):\n",
    "    if input_str.strip().isdigit():\n",
    "        print(\"User input is Number\")\n",
    "    else:\n",
    "        print(\"User input is string\")\n",
    "\n",
    "num1 = input(\"Enter number and hit enter\")\n",
    "print(num1)\n",
    "check_is_digit(num1)\n",
    "\n",
    "num2 = input(\"Enter number and hit enter\")\n",
    "print(num2)\n",
    "check_is_digit(num2)"
   ]
  },
  {
   "cell_type": "markdown",
   "metadata": {},
   "source": [
    "# Answer:- 7"
   ]
  },
  {
   "cell_type": "code",
   "execution_count": 7,
   "metadata": {},
   "outputs": [
    {
     "name": "stdout",
     "output_type": "stream",
     "text": [
      "Create variable in Upper CamelCase formate:-  JaiminPatel\n",
      "Create variable in Lower CamelCase formate:- jaiminPatel\n",
      "Create variable in SnakeCase formate:-  i_am_jaimin_patel\n",
      "Create variable in UPPERCASE formate:-  JAIMINPATEL\n"
     ]
    }
   ],
   "source": [
    "a = \"JaiminPatel\" # Upper CamelCase\n",
    "b = \"jaiminPatel\" # Lower CamelCase\n",
    "c = \"i_am_jaimin_patel\" # SnakeCase\n",
    "d = \"JAIMINPATEL\" # UPPERCASE\n",
    "\n",
    "print(\"Create variable in Upper CamelCase formate:- \", a)\n",
    "print(\"Create variable in Lower CamelCase formate:-\", b)\n",
    "print(\"Create variable in SnakeCase formate:- \", c)\n",
    "print(\"Create variable in UPPERCASE formate:- \", d)\n"
   ]
  },
  {
   "cell_type": "markdown",
   "metadata": {},
   "source": [
    "# Answer:- 8"
   ]
  },
  {
   "cell_type": "markdown",
   "metadata": {},
   "source": [
    "variables in Python can be reassigned to another value that is an alternate data type from its present value. In fact, variables can be reassigned to any valid value in Python, no matter what its present value."
   ]
  },
  {
   "cell_type": "markdown",
   "metadata": {},
   "source": [
    "# Task-2"
   ]
  },
  {
   "cell_type": "markdown",
   "metadata": {},
   "source": [
    "# Answer:- 1"
   ]
  },
  {
   "cell_type": "code",
   "execution_count": 17,
   "metadata": {},
   "outputs": [
    {
     "name": "stdout",
     "output_type": "stream",
     "text": [
      "Enter any Number: \n",
      "Python_Training\n"
     ]
    }
   ],
   "source": [
    "print(\"Enter any Number: \")\n",
    "number = int(input())\n",
    "\n",
    "if number%3==0 and number%5==0:\n",
    "    print(\"Consultadd - Python_Training\")\n",
    "elif number%5==0:\n",
    "    print(\"Python_Training\")\n",
    "elif number%3==0:\n",
    "    print(\"Consultadd\")\n",
    "else:\n",
    "    print(\"No Pref.\")"
   ]
  },
  {
   "cell_type": "markdown",
   "metadata": {},
   "source": [
    "# Answer:- 2"
   ]
  },
  {
   "cell_type": "code",
   "execution_count": 35,
   "metadata": {},
   "outputs": [
    {
     "name": "stdout",
     "output_type": "stream",
     "text": [
      "-10\n"
     ]
    }
   ],
   "source": [
    "num = int(input(\"Enter your choice: \"))\n",
    "while num<0 or num>6:\n",
    "    num=int(input(\"Invalid choice. Try again: \"))\n",
    "\n",
    "num1 = int(input(\"Enter first number: \"))\n",
    "num2 = int(input(\"Enter second number: \"))\n",
    "result = 0\n",
    "if num==1:\n",
    "    print(num1+num2)\n",
    "elif num==2:\n",
    "    print(num1-num2)\n",
    "elif num==3:\n",
    "    print(num1/num2)\n",
    "elif num==4:\n",
    "    print(num1*num2)\n",
    "elif num==5:\n",
    "    num1 = int(input(\"Enter third number: \"))\n",
    "    num2 = int(input(\"Enter fourth number: \"))\n",
    "    print((num1+num1+num2+num2)/4)\n",
    "else:\n",
    "    print(\"Negative\")\n"
   ]
  },
  {
   "cell_type": "markdown",
   "metadata": {},
   "source": [
    "# Answer:- 3"
   ]
  },
  {
   "cell_type": "code",
   "execution_count": 36,
   "metadata": {},
   "outputs": [
    {
     "name": "stdout",
     "output_type": "stream",
     "text": [
      "avg =  20.0\n",
      "avg is just higher than a\n"
     ]
    }
   ],
   "source": [
    "a = 10\n",
    "b = 20\n",
    "c = 30\n",
    "\n",
    "avg = (a+b+c)/3\n",
    "print(\"avg = \", avg)\n",
    "\n",
    "if avg>a and avg>b and avg>c:\n",
    "  print(\"avg is higher than a, b, c\")\n",
    "elif avg>a and avg>b:\n",
    "  print(\"avg is higher than a, b, c\")\n",
    "elif avg>a and avg>c:\n",
    "  print(\"avg is higher than a, c\")\n",
    "elif avg>b and avg>c:\n",
    "  print(\"avg is higher than b, c\")\n",
    "elif avg>a:\n",
    "  print(\"avg is just higher than a\")\n",
    "elif avg>b:\n",
    "  print(\"avg is just higher than b\")\n",
    "elif avg>c:\n",
    "  print(\"avg is just higher than c\")\n"
   ]
  },
  {
   "cell_type": "markdown",
   "metadata": {},
   "source": [
    "# Answer:- 4"
   ]
  },
  {
   "cell_type": "code",
   "execution_count": 40,
   "metadata": {},
   "outputs": [
    {
     "name": "stdout",
     "output_type": "stream",
     "text": [
      "It's Over\n"
     ]
    }
   ],
   "source": [
    "number = 0\n",
    "\n",
    "while number>=0:\n",
    "    number = int(input(\"Enter a number: \"))\n",
    "    if number<0:\n",
    "        print(\"It's Over\")\n",
    "        break\n",
    "    else:\n",
    "        print(\"Good Going\")\n"
   ]
  },
  {
   "cell_type": "markdown",
   "metadata": {},
   "source": [
    "# Answer:- 5"
   ]
  },
  {
   "cell_type": "code",
   "execution_count": 41,
   "metadata": {},
   "outputs": [
    {
     "name": "stdout",
     "output_type": "stream",
     "text": [
      "Numbers between 2000 and 3200 which are divisible  by 7 but are not a multiple of 5 are:\n",
      "2002 2009 2016 2023 2037 2044 2051 2058 2072 2079 2086 2093 2107 2114 2121 2128 2142 2149 2156 2163 2177 2184 2191 2198 2212 2219 2226 2233 2247 2254 2261 2268 2282 2289 2296 2303 2317 2324 2331 2338 2352 2359 2366 2373 2387 2394 2401 2408 2422 2429 2436 2443 2457 2464 2471 2478 2492 2499 2506 2513 2527 2534 2541 2548 2562 2569 2576 2583 2597 2604 2611 2618 2632 2639 2646 2653 2667 2674 2681 2688 2702 2709 2716 2723 2737 2744 2751 2758 2772 2779 2786 2793 2807 2814 2821 2828 2842 2849 2856 2863 2877 2884 2891 2898 2912 2919 2926 2933 2947 2954 2961 2968 2982 2989 2996 3003 3017 3024 3031 3038 3052 3059 3066 3073 3087 3094 3101 3108 3122 3129 3136 3143 3157 3164 3171 3178 3192 3199 "
     ]
    }
   ],
   "source": [
    "number = 2000\n",
    "\n",
    "print(\"Numbers between 2000 and 3200 which are divisible  by 7 but are not a multiple of 5 are:\")\n",
    "\n",
    "while number <= 3200:\n",
    "  if number % 7 == 0 and number % 5 != 0:\n",
    "    print(number, end=\" \")\n",
    "  number += 1\n"
   ]
  },
  {
   "cell_type": "markdown",
   "metadata": {},
   "source": [
    "# Answer:- 6"
   ]
  },
  {
   "cell_type": "markdown",
   "metadata": {},
   "source": [
    "ans:- 1 - It gives type error because'int' object is not iterable\n",
    "\n",
    "ans:- 2 - \n",
    "0\n",
    "error\n",
    "1\n",
    "error\n",
    "2\n",
    "\n",
    "ans:- 3 - \n",
    "0\n",
    "1\n",
    "2\n",
    "3\n",
    "4\n",
    "NameError: name 'Break' is not defined\n",
    "\n"
   ]
  },
  {
   "cell_type": "markdown",
   "metadata": {},
   "source": [
    "# Answer:- 7"
   ]
  },
  {
   "cell_type": "code",
   "execution_count": 51,
   "metadata": {},
   "outputs": [
    {
     "name": "stdout",
     "output_type": "stream",
     "text": [
      "0\n",
      "1\n",
      "2\n",
      "4\n",
      "5\n"
     ]
    }
   ],
   "source": [
    "number = -1\n",
    "\n",
    "while number < 6:\n",
    "    number += 1\n",
    "    if number == 3 or number == 6:\n",
    "        continue\n",
    "    print(number)\n"
   ]
  },
  {
   "cell_type": "markdown",
   "metadata": {},
   "source": [
    "# Answer:- 8"
   ]
  },
  {
   "cell_type": "code",
   "execution_count": 54,
   "metadata": {},
   "outputs": [
    {
     "name": "stdout",
     "output_type": "stream",
     "text": [
      "Letters  6\n",
      "Digits  4\n"
     ]
    }
   ],
   "source": [
    "string = input(\"Enter a string: \")\n",
    "digitCount = 0\n",
    "letterCount = 0\n",
    "\n",
    "for i in string:\n",
    "    if i.isdigit():\n",
    "        digitCount += 1\n",
    "    elif i.isalpha():\n",
    "        letterCount += 1\n",
    "\n",
    "print(\"Letters \",letterCount)\n",
    "print(\"Digits \",digitCount)\n",
    "\n"
   ]
  },
  {
   "cell_type": "markdown",
   "metadata": {},
   "source": []
  }
 ],
 "metadata": {
  "interpreter": {
   "hash": "aee8b7b246df8f9039afb4144a1f6fd8d2ca17a180786b69acc140d282b71a49"
  },
  "kernelspec": {
   "display_name": "Python 3.9.7 64-bit",
   "language": "python",
   "name": "python3"
  },
  "language_info": {
   "codemirror_mode": {
    "name": "ipython",
    "version": 3
   },
   "file_extension": ".py",
   "mimetype": "text/x-python",
   "name": "python",
   "nbconvert_exporter": "python",
   "pygments_lexer": "ipython3",
   "version": "3.9.7"
  },
  "orig_nbformat": 4
 },
 "nbformat": 4,
 "nbformat_minor": 2
}
